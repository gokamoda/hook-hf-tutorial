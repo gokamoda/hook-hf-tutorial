{
 "cells": [
  {
   "cell_type": "markdown",
   "id": "b96630c8",
   "metadata": {},
   "source": [
    "# Logit Lens の可視化をしてみる\n",
    "Hidden State に加え、Attention層後の中間層の出力を Logit Lens に渡して可視化してみます。"
   ]
  },
  {
   "cell_type": "markdown",
   "id": "a00ccf04",
   "metadata": {},
   "source": [
    "### 準備"
   ]
  },
  {
   "cell_type": "code",
   "execution_count": 6,
   "id": "04ae85ac",
   "metadata": {},
   "outputs": [],
   "source": [
    "# ライブラリのインポート\n",
    "from pprint import pprint\n",
    "\n",
    "from transformers import AutoTokenizer\n",
    "\n",
    "from _transformers.model_with_alias import AutoModelForCausalLMWithAliases\n",
    "\n",
    "# ローカルの関数をインポート\n",
    "from get_hidden_stete_with_hook import main as get_hidden_state\n",
    "from logit_lens import (\n",
    "    LogitLens,\n",
    "    prepare_data_for_logit_lens_with_mid_layer,\n",
    "    visualize_logit_lens,\n",
    ")"
   ]
  },
  {
   "cell_type": "code",
   "execution_count": 7,
   "id": "393f3f04",
   "metadata": {},
   "outputs": [],
   "source": [
    "model_name_or_path = \"gpt2\"\n",
    "# model_name_or_path = \"meta-llama/Llama-3.2-1B\"\n",
    "prompt = \"Tokyo is the capital of Japan.\"\n",
    "\n",
    "tokenizer = AutoTokenizer.from_pretrained(model_name_or_path)\n",
    "\n",
    "model = AutoModelForCausalLMWithAliases.from_pretrained(model_name_or_path)\n",
    "model.eval()\n",
    "\n",
    "logit_lens = LogitLens(model)"
   ]
  },
  {
   "cell_type": "markdown",
   "id": "4c6ea9dc",
   "metadata": {},
   "source": [
    "### Hookを使って隠れ状態を取得する\n"
   ]
  },
  {
   "cell_type": "code",
   "execution_count": 8,
   "id": "d5cad21b",
   "metadata": {},
   "outputs": [
    {
     "name": "stdout",
     "output_type": "stream",
     "text": [
      "dict_keys(['hidden_states', 'mid_layer_hidden_states'])\n"
     ]
    }
   ],
   "source": [
    "hidden_states = get_hidden_state(\n",
    "    model=model,\n",
    "    tokenizer=tokenizer,\n",
    "    prompt=prompt,\n",
    ")\n",
    "pprint(hidden_states.keys())"
   ]
  },
  {
   "cell_type": "markdown",
   "id": "f27e8556",
   "metadata": {},
   "source": [
    "### LogitLensを使ってみる"
   ]
  },
  {
   "cell_type": "code",
   "execution_count": 9,
   "id": "40d96eae",
   "metadata": {},
   "outputs": [
    {
     "name": "stdout",
     "output_type": "stream",
     "text": [
      "Hidden Logits: torch.Size([13, 8, 5])\n",
      "Mid Layer Logits: torch.Size([12, 8, 5])\n"
     ]
    }
   ],
   "source": [
    "topk = 5\n",
    "# topk = None\n",
    "\n",
    "logit_lens_result = logit_lens.lens(\n",
    "    hidden_states[\"hidden_states\"], prob=True, topk=topk\n",
    ")\n",
    "logit_lens_result_mid_layer = logit_lens.lens(\n",
    "    hidden_states[\"mid_layer_hidden_states\"], prob=True, topk=topk\n",
    ")\n",
    "\n",
    "if topk is None:\n",
    "    print(\n",
    "        f\"Hidden Logits: {logit_lens_result.shape}\\nMid Layer Logits: {logit_lens_result_mid_layer.shape}\"\n",
    "    )\n",
    "else:\n",
    "    print(\n",
    "        f\"Hidden Logits: {logit_lens_result.values.shape}\\nMid Layer Logits: {logit_lens_result_mid_layer.values.shape}\"\n",
    "    )"
   ]
  },
  {
   "cell_type": "code",
   "execution_count": 10,
   "id": "9fd45464",
   "metadata": {},
   "outputs": [
    {
     "data": {
      "application/vnd.plotly.v1+json": {
       "config": {
        "plotlyServerURL": "https://plot.ly"
       },
       "data": [
        {
         "colorscale": [
          [
           0,
           "rgb(247,251,255)"
          ],
          [
           0.125,
           "rgb(222,235,247)"
          ],
          [
           0.25,
           "rgb(198,219,239)"
          ],
          [
           0.375,
           "rgb(158,202,225)"
          ],
          [
           0.5,
           "rgb(107,174,214)"
          ],
          [
           0.625,
           "rgb(66,146,198)"
          ],
          [
           0.75,
           "rgb(33,113,181)"
          ],
          [
           0.875,
           "rgb(8,81,156)"
          ],
          [
           1,
           "rgb(8,48,107)"
          ]
         ],
         "hovertemplate": "<b>Input:</b> %{x}<br><b>Layer:</b> %{y}<br><br>%{hovertext}",
         "hovertext": [
          [
           "1.00:Tok<br>0.00:���<br>0.00:theless<br>0.00: Tok<br>0.00:�",
           "1.00:yo<br>0.00:yang<br>0.00: livest<br>0.00: yo<br>0.00:thood",
           "0.74: livest<br>0.08:theless<br>0.07: mathemat<br>0.07: destro<br>0.02: challeng",
           "0.47: livest<br>0.36: destro<br>0.12: mathemat<br>0.02: horizont<br>0.01: challeng",
           "1.00: capital<br>0.00:capital<br>0.00: capitals<br>0.00:Capital<br>0.00: Capital",
           "0.58: destro<br>0.29: mathemat<br>0.10: challeng<br>0.01:theless<br>0.01: horizont",
           "1.00: Japan<br>0.00:Japan<br>0.00: Tokyo<br>0.00: Japanese<br>0.00:Japanese",
           "0.69: challeng<br>0.21: mathemat<br>0.08: destro<br>0.02: arrang<br>0.00: horizont"
          ],
          [
           "0.76:Tok<br>0.04: Tok<br>0.01:onte<br>0.01:ite<br>0.01:cffff",
           "0.99:yo<br>0.00: -<br>0.00:,<br>0.00: /<br>0.00:-",
           "0.09: a<br>0.06: very<br>0.05: the<br>0.03: better<br>0.02: quick",
           "0.05: slow<br>0.03: process<br>0.03: world<br>0.03: very<br>0.02: the",
           "1.00: capital<br>0.00: reorgan<br>0.00: capitals<br>0.00: collapse<br>0.00:capital",
           "0.13: the<br>0.03: above<br>0.02: spirit<br>0.02: open<br>0.02: a",
           "0.61: Japan<br>0.05: trade<br>0.01:'s<br>0.01: exile<br>0.01: unit",
           "0.19:\n<br>0.03: It<br>0.03: And<br>0.03: .<br>0.03: I"
          ],
          [
           "0.02:ens<br>0.02:,<br>0.02:iy<br>0.02:aku<br>0.02:ite",
           "0.98:yo<br>0.00:jin<br>0.00:ichi<br>0.00:,<br>0.00: and",
           "0.31: not<br>0.09: a<br>0.05: very<br>0.05: also<br>0.03: now",
           "0.56: same<br>0.04: world<br>0.03: first<br>0.02: most<br>0.02: very",
           "1.00: capital<br>0.00: city<br>0.00: capitals<br>0.00: building<br>0.00:capital",
           "0.62: the<br>0.08: course<br>0.03: a<br>0.01: '<br>0.01: this",
           "0.63: Japan<br>0.09:iji<br>0.06:'s<br>0.05: Yen<br>0.02:ya",
           "0.24:\n<br>0.10: The<br>0.08: It<br>0.03: In<br>0.03: And"
          ],
          [
           "0.03:,<br>0.02:ens<br>0.02:\n<br>0.02:.<br>0.01:aku",
           "0.96:yo<br>0.02:jin<br>0.00:ichi<br>0.00:ji<br>0.00:aku",
           "0.36: not<br>0.08: a<br>0.07: also<br>0.05: very<br>0.05: now",
           "0.27: same<br>0.10: world<br>0.09: fastest<br>0.06: following<br>0.05: first",
           "1.00: capital<br>0.00: city<br>0.00: building<br>0.00: capitals<br>0.00: investment",
           "0.56: the<br>0.14: course<br>0.03: a<br>0.01: its<br>0.01: late",
           "0.69: Japan<br>0.09:iji<br>0.06: Yen<br>0.03:'s<br>0.01:ya",
           "0.14:\n<br>0.11: It<br>0.10: The<br>0.04: And<br>0.04: They"
          ],
          [
           "0.07:,<br>0.03: and<br>0.03:.<br>0.03:\n<br>0.03: the",
           "0.80:yo<br>0.11:jin<br>0.02:ichi<br>0.01:ji<br>0.01:'s",
           "0.47: not<br>0.10: now<br>0.07: also<br>0.06: still<br>0.03: a",
           "0.66: same<br>0.05: first<br>0.04: following<br>0.03: fastest<br>0.03: world",
           "1.00: capital<br>0.00: city<br>0.00: investment<br>0.00: punishment<br>0.00: capitals",
           "0.75: the<br>0.08: course<br>0.02: a<br>0.02: its<br>0.01: late",
           "0.36: Japan<br>0.21:'s<br>0.05:iji<br>0.03: Yen<br>0.02:,",
           "0.14: It<br>0.13:\n<br>0.11: The<br>0.04: They<br>0.04: And"
          ],
          [
           "0.07:,<br>0.03:\n<br>0.03:.<br>0.03: and<br>0.03: the",
           "0.81:yo<br>0.10:jin<br>0.02:ichi<br>0.02:ji<br>0.01:aku",
           "0.47: not<br>0.11: now<br>0.07: also<br>0.05: still<br>0.04: a",
           "0.70: same<br>0.05: fastest<br>0.03: first<br>0.03: following<br>0.03: most",
           "1.00: capital<br>0.00: city<br>0.00: investment<br>0.00: building<br>0.00: punishment",
           "0.72: the<br>0.09: course<br>0.03: a<br>0.02: its<br>0.01: his",
           "0.45: Japan<br>0.17:'s<br>0.06:iji<br>0.03: Yen<br>0.02:,",
           "0.14:\n<br>0.13: It<br>0.11: The<br>0.04: If<br>0.04: And"
          ],
          [
           "0.03:,<br>0.02: the<br>0.02: and<br>0.02:.<br>0.02:\n",
           "0.51:jin<br>0.33:yo<br>0.06:ji<br>0.02:ichi<br>0.01: Square",
           "0.33: not<br>0.17: now<br>0.11: also<br>0.07: still<br>0.04: a",
           "0.83: same<br>0.03: fastest<br>0.02: following<br>0.02: most<br>0.01: first",
           "0.99: capital<br>0.01: city<br>0.00: punishment<br>0.00: investment<br>0.00: area",
           "0.75: the<br>0.11: course<br>0.02: a<br>0.01: its<br>0.01: our",
           "0.50:'s<br>0.16: Japan<br>0.05:,<br>0.01:.<br>0.01: Airlines",
           "0.14:\n<br>0.12: It<br>0.11: The<br>0.06: If<br>0.04: They"
          ],
          [
           "0.03:,<br>0.02: the<br>0.02: and<br>0.02:\n<br>0.02:.",
           "0.59:jin<br>0.24:yo<br>0.06:ji<br>0.03:ichi<br>0.01: Square",
           "0.36: not<br>0.13: now<br>0.11: also<br>0.05: still<br>0.04: a",
           "0.80: same<br>0.06: fastest<br>0.02: most<br>0.02: following<br>0.01: very",
           "0.99: capital<br>0.01: city<br>0.00: investment<br>0.00: area<br>0.00: metropolitan",
           "0.87: the<br>0.01: course<br>0.01: a<br>0.01: its<br>0.00: our",
           "0.40:'s<br>0.27: Japan<br>0.04:,<br>0.02: Meteor<br>0.01: Yen",
           "0.17: The<br>0.12:\n<br>0.11: It<br>0.05: However<br>0.05: And"
          ],
          [
           "0.03:,<br>0.02: the<br>0.02: and<br>0.02:.<br>0.02:\n",
           "0.75:jin<br>0.10:yo<br>0.05:ichi<br>0.02:ji<br>0.02: Square",
           "0.32: not<br>0.17: also<br>0.11: now<br>0.05: still<br>0.04: currently",
           "0.72: same<br>0.06: most<br>0.05: fastest<br>0.02: best<br>0.02: largest",
           "0.90: capital<br>0.09: city<br>0.00: punishment<br>0.00: metropolitan<br>0.00: cities",
           "0.87: the<br>0.01: course<br>0.01: our<br>0.01: a<br>0.01: his",
           "0.65:'s<br>0.07:,<br>0.04: Japan<br>0.02:.<br>0.02: called",
           "0.16: It<br>0.12:\n<br>0.08: The<br>0.05: Its<br>0.05: If"
          ],
          [
           "0.03:,<br>0.02: the<br>0.02: and<br>0.02:\n<br>0.02:.",
           "0.75:jin<br>0.06:yo<br>0.06:ichi<br>0.03:ji<br>0.03: Square",
           "0.28: not<br>0.19: also<br>0.10: now<br>0.04: currently<br>0.04: still",
           "0.61: same<br>0.08: most<br>0.06: fastest<br>0.06: largest<br>0.03: best",
           "0.84: capital<br>0.15: city<br>0.00: metropolitan<br>0.00: cities<br>0.00: suburb",
           "0.90: the<br>0.01: a<br>0.01: our<br>0.01: its<br>0.00: his",
           "0.70:'s<br>0.07:,<br>0.03: Japan<br>0.02:.<br>0.02: called",
           "0.15: Its<br>0.15: It<br>0.10: The<br>0.10:\n<br>0.04: But"
          ],
          [
           "0.03:,<br>0.02: the<br>0.02: and<br>0.02:.<br>0.02:\n",
           "0.43:jin<br>0.09: Square<br>0.04:,<br>0.04:ji<br>0.03:'s",
           "0.25: also<br>0.23: not<br>0.14: now<br>0.05: currently<br>0.03: still",
           "0.34: same<br>0.15: largest<br>0.12: fastest<br>0.11: most<br>0.07: best",
           "0.88: city<br>0.06: capital<br>0.01: metropolitan<br>0.01: cities<br>0.00: area",
           "0.80: the<br>0.02: a<br>0.02: several<br>0.01: its<br>0.01: our",
           "0.83:'s<br>0.07:,<br>0.02:.<br>0.01: called<br>0.01: and",
           "0.19: Its<br>0.18: It<br>0.13: The<br>0.07:\n<br>0.04: There"
          ],
          [
           "0.03:,<br>0.02: the<br>0.02: and<br>0.02:.<br>0.02:\n",
           "0.50:jin<br>0.08: Square<br>0.04:ichi<br>0.04:,<br>0.03:'s",
           "0.31: also<br>0.18: not<br>0.13: now<br>0.05: currently<br>0.02: definitely",
           "0.23: same<br>0.22: largest<br>0.14: fastest<br>0.13: most<br>0.05: best",
           "0.88: city<br>0.04: capital<br>0.04: metropolitan<br>0.01: cities<br>0.00: area",
           "0.59: the<br>0.03: several<br>0.03: its<br>0.02: a<br>0.02: East",
           "0.81:'s<br>0.09:,<br>0.03:.<br>0.01: and<br>0.01:-",
           "0.34: Its<br>0.14: It<br>0.09: The<br>0.05:\n<br>0.05: And"
          ],
          [
           "0.03:,<br>0.02: the<br>0.02: and<br>0.02:.<br>0.02:\n",
           "0.15:jin<br>0.09:,<br>0.06:'s<br>0.04: Square<br>0.04:ji",
           "0.34: also<br>0.22: now<br>0.13: not<br>0.07: currently<br>0.03: still",
           "0.29: largest<br>0.16: same<br>0.15: most<br>0.13: fastest<br>0.05: best",
           "0.95: city<br>0.01: capital<br>0.01: cities<br>0.01: metropolitan<br>0.01: of",
           "0.61: the<br>0.03: town<br>0.02: a<br>0.02: several<br>0.01: both",
           "0.84:'s<br>0.09:,<br>0.02:.<br>0.01: and<br>0.00: called",
           "0.63: Its<br>0.12: It<br>0.03: The<br>0.02: However<br>0.02:\n"
          ],
          [
           "0.03:,<br>0.02: the<br>0.02: and<br>0.02:.<br>0.02:\n",
           "0.19:jin<br>0.08:,<br>0.06:'s<br>0.05:ichi<br>0.04:ji",
           "0.32: also<br>0.23: now<br>0.13: not<br>0.05: currently<br>0.03: still",
           "0.44: largest<br>0.14: most<br>0.09: fastest<br>0.07: same<br>0.04: best",
           "0.95: city<br>0.01: capital<br>0.01: metropolitan<br>0.01: cities<br>0.00: of",
           "0.39: the<br>0.08: town<br>0.03: East<br>0.02: city<br>0.02: a",
           "0.80:'s<br>0.11:,<br>0.02:.<br>0.02: and<br>0.00:-",
           "0.83: Its<br>0.05: It<br>0.01: The<br>0.01: And<br>0.01:\n"
          ],
          [
           "0.03:,<br>0.02: the<br>0.02: and<br>0.02:.<br>0.01:\n",
           "0.12:,<br>0.11: Press<br>0.09:'s<br>0.08: Shin<br>0.05:jin",
           "0.33: also<br>0.17: now<br>0.17: not<br>0.05: currently<br>0.03: still",
           "0.60: largest<br>0.11: fastest<br>0.06: most<br>0.06: best<br>0.02: first",
           "0.95: city<br>0.02: of<br>0.01: metropolitan<br>0.01: cities<br>0.00: capital",
           "0.23: the<br>0.06: East<br>0.06: state<br>0.05: town<br>0.02: northeast",
           "0.83:'s<br>0.11:,<br>0.03:.<br>0.01: and<br>0.00:-",
           "0.82: Its<br>0.06: It<br>0.02:\n<br>0.01: The<br>0.01: Located"
          ],
          [
           "0.03:,<br>0.02: the<br>0.02: and<br>0.01:.<br>0.01:\n",
           "0.11: Press<br>0.10:,<br>0.08: Shin<br>0.07:'s<br>0.05:jin",
           "0.34: also<br>0.16: now<br>0.12: not<br>0.05: proud<br>0.04: currently",
           "0.76: largest<br>0.05: fastest<br>0.04: most<br>0.03: best<br>0.02: biggest",
           "0.95: city<br>0.01: of<br>0.01: metropolitan<br>0.00: capital<br>0.00: suburb",
           "0.21: the<br>0.06: East<br>0.06: state<br>0.04: town<br>0.03: northeast",
           "0.64:'s<br>0.25:,<br>0.05:.<br>0.03: and<br>0.00:;",
           "0.84: Its<br>0.04: It<br>0.04: Located<br>0.01: The<br>0.01:\n"
          ],
          [
           "0.03:,<br>0.02: the<br>0.02: and<br>0.02:.<br>0.01:\n",
           "0.14:,<br>0.12: Shin<br>0.07:'s<br>0.06:jin<br>0.05: City",
           "0.29: also<br>0.17: now<br>0.15: currently<br>0.10: not<br>0.06: still",
           "0.86: largest<br>0.03: fastest<br>0.03: most<br>0.01: first<br>0.01: oldest",
           "0.85: city<br>0.12: of<br>0.00: cities<br>0.00: suburb<br>0.00: borough",
           "0.50: the<br>0.05: North<br>0.04: western<br>0.04: a<br>0.04: British",
           "0.75:'s<br>0.16:,<br>0.04: and<br>0.03:.<br>0.00:;",
           "0.83: Its<br>0.06: It<br>0.03: Located<br>0.01: However<br>0.01: The"
          ],
          [
           "0.03:,<br>0.02: the<br>0.02: and<br>0.02:.<br>0.01:\n",
           "0.13:,<br>0.12: Shin<br>0.07:jin<br>0.06:'s<br>0.05:-",
           "0.33: also<br>0.13: now<br>0.13: currently<br>0.10: not<br>0.06: still",
           "0.84: largest<br>0.03: fastest<br>0.02: most<br>0.01: biggest<br>0.01: oldest",
           "0.98: city<br>0.01: of<br>0.00: suburb<br>0.00: cities<br>0.00: province",
           "0.17: Japan<br>0.11: western<br>0.11: China<br>0.08: northern<br>0.08: the",
           "0.63:'s<br>0.24:,<br>0.06: and<br>0.04:.<br>0.00:;",
           "0.84: Its<br>0.08: Located<br>0.04: It<br>0.01: However<br>0.00: Although"
          ],
          [
           "0.03:,<br>0.02: the<br>0.02: and<br>0.02:.<br>0.01:\n",
           "0.23:,<br>0.10:'s<br>0.07: Electric<br>0.07:-<br>0.07: City",
           "0.24: also<br>0.15: currently<br>0.11: now<br>0.07: not<br>0.05: proud",
           "0.84: largest<br>0.06: birthplace<br>0.02: oldest<br>0.01: biggest<br>0.01: most",
           "0.89: city<br>0.10: of<br>0.00: suburb<br>0.00: town<br>0.00: province",
           "0.37: Japan<br>0.16: China<br>0.16: the<br>0.08: North<br>0.02: northern",
           "0.59:'s<br>0.27:,<br>0.07:.<br>0.05: and<br>0.01:;",
           "0.66: Its<br>0.12: It<br>0.07: Located<br>0.03: The<br>0.01: There"
          ],
          [
           "0.03:,<br>0.02: the<br>0.02: and<br>0.02:.<br>0.02:\n",
           "0.22:,<br>0.10:'s<br>0.09: Electric<br>0.08:-<br>0.05: City",
           "0.24: also<br>0.15: currently<br>0.10: now<br>0.07: not<br>0.06: proud",
           "0.78: largest<br>0.12: birthplace<br>0.01: biggest<br>0.01: most<br>0.01: oldest",
           "0.89: city<br>0.10: of<br>0.00: suburb<br>0.00: town<br>0.00: province",
           "0.92: Japan<br>0.03: China<br>0.01: Tokyo<br>0.01: Japanese<br>0.01: North",
           "0.39:'s<br>0.38:,<br>0.12: and<br>0.09:.<br>0.01:;",
           "0.80: Its<br>0.07: It<br>0.06: Located<br>0.01: The<br>0.01: There"
          ],
          [
           "0.03:,<br>0.02: the<br>0.02: and<br>0.02:.<br>0.01:\n",
           "0.19:,<br>0.12: Electric<br>0.11:-<br>0.08:'s<br>0.05: City",
           "0.18: currently<br>0.13: also<br>0.07: now<br>0.07: a<br>0.06: not",
           "0.78: largest<br>0.08: birthplace<br>0.03: oldest<br>0.02: tallest<br>0.01: biggest",
           "0.72: city<br>0.27: of<br>0.00: and<br>0.00: town<br>0.00:,",
           "0.97: Japan<br>0.01: China<br>0.01: Tokyo<br>0.00: Japanese<br>0.00: the",
           "0.66:'s<br>0.21:,<br>0.08:.<br>0.04: and<br>0.00:;",
           "0.59: Its<br>0.22: It<br>0.05: The<br>0.01: There<br>0.01: Located"
          ],
          [
           "0.03:,<br>0.02: the<br>0.02: and<br>0.02:.<br>0.02:\n",
           "0.20:,<br>0.12: Electric<br>0.11:-<br>0.07:'s<br>0.05: City",
           "0.16: currently<br>0.12: also<br>0.08: now<br>0.07: a<br>0.06: not",
           "0.65: largest<br>0.19: birthplace<br>0.02: tallest<br>0.02: oldest<br>0.02: only",
           "0.74: city<br>0.25: of<br>0.00: and<br>0.00:,<br>0.00: town",
           "0.98: Japan<br>0.01: Tokyo<br>0.00: Japanese<br>0.00: China<br>0.00: Osaka",
           "0.40:,<br>0.33:'s<br>0.14:.<br>0.13: and<br>0.01:;",
           "0.65: Its<br>0.16: It<br>0.03: The<br>0.03: Tokyo<br>0.02: Located"
          ],
          [
           "0.03:,<br>0.02: the<br>0.02: and<br>0.02:.<br>0.02:\n",
           "0.32:,<br>0.07:-<br>0.05:'s<br>0.04::<br>0.03:.",
           "0.18: a<br>0.09: the<br>0.05: now<br>0.05: also<br>0.05: currently",
           "0.36: largest<br>0.09: birthplace<br>0.08: only<br>0.05: most<br>0.04: first",
           "0.91: of<br>0.08: city<br>0.00: and<br>0.00:,<br>0.00:'s",
           "0.94: Japan<br>0.03: Tokyo<br>0.01: the<br>0.01: China<br>0.00: Japanese",
           "0.65:'s<br>0.16:,<br>0.11: and<br>0.06:.<br>0.00:;",
           "0.42: It<br>0.25: Its<br>0.07: The<br>0.04:\n<br>0.02: In"
          ],
          [
           "0.05:,<br>0.03:.<br>0.02: and<br>0.02:\n<br>0.02:-",
           "0.23:,<br>0.06:-<br>0.04:'s<br>0.04::<br>0.04:.",
           "0.14: a<br>0.10: the<br>0.04: one<br>0.03: now<br>0.03: also",
           "0.09: only<br>0.07: largest<br>0.06: most<br>0.06: first<br>0.03: world",
           "0.78: of<br>0.13: city<br>0.02:,<br>0.01: and<br>0.01:.",
           "0.69: Japan<br>0.08: the<br>0.07: Tokyo<br>0.02: Japanese<br>0.01: China",
           "0.28:,<br>0.26:'s<br>0.20: and<br>0.13:.<br>0.01: for",
           "0.20: It<br>0.12:\n<br>0.10: The<br>0.05: Its<br>0.04: Tokyo"
          ],
          [
           "0.06:.<br>0.04:,<br>0.02:\n<br>0.01:-<br>0.01: and",
           "0.15:,<br>0.05:-<br>0.03:)<br>0.03::<br>0.02:.",
           "0.11: a<br>0.08: the<br>0.04: one<br>0.03: known<br>0.03: also",
           "0.10: only<br>0.05: first<br>0.04: most<br>0.04: largest<br>0.04: second",
           "0.74: of<br>0.13: city<br>0.03:,<br>0.02: and<br>0.02:.",
           "0.38: Japan<br>0.25: the<br>0.04: Tokyo<br>0.04: a<br>0.01: China",
           "0.30:,<br>0.23:'s<br>0.18:.<br>0.17: and<br>0.01: with",
           "0.17:\n<br>0.16: It<br>0.10: The<br>0.03: Its<br>0.03: In"
          ]
         ],
         "name": "",
         "text": [
          [
           "Tok",
           "yo",
           " livest",
           " livest",
           " capital",
           " destro",
           " Japan",
           " challeng"
          ],
          [
           "Tok",
           "yo",
           " a",
           " slow",
           " capital",
           " the",
           " Japan",
           "\n"
          ],
          [
           "ens",
           "yo",
           " not",
           " same",
           " capital",
           " the",
           " Japan",
           "\n"
          ],
          [
           ",",
           "yo",
           " not",
           " same",
           " capital",
           " the",
           " Japan",
           "\n"
          ],
          [
           ",",
           "yo",
           " not",
           " same",
           " capital",
           " the",
           " Japan",
           " It"
          ],
          [
           ",",
           "yo",
           " not",
           " same",
           " capital",
           " the",
           " Japan",
           "\n"
          ],
          [
           ",",
           "jin",
           " not",
           " same",
           " capital",
           " the",
           "'s",
           "\n"
          ],
          [
           ",",
           "jin",
           " not",
           " same",
           " capital",
           " the",
           "'s",
           " The"
          ],
          [
           ",",
           "jin",
           " not",
           " same",
           " capital",
           " the",
           "'s",
           " It"
          ],
          [
           ",",
           "jin",
           " not",
           " same",
           " capital",
           " the",
           "'s",
           " Its"
          ],
          [
           ",",
           "jin",
           " also",
           " same",
           " city",
           " the",
           "'s",
           " Its"
          ],
          [
           ",",
           "jin",
           " also",
           " same",
           " city",
           " the",
           "'s",
           " Its"
          ],
          [
           ",",
           "jin",
           " also",
           " largest",
           " city",
           " the",
           "'s",
           " Its"
          ],
          [
           ",",
           "jin",
           " also",
           " largest",
           " city",
           " the",
           "'s",
           " Its"
          ],
          [
           ",",
           ",",
           " also",
           " largest",
           " city",
           " the",
           "'s",
           " Its"
          ],
          [
           ",",
           " Press",
           " also",
           " largest",
           " city",
           " the",
           "'s",
           " Its"
          ],
          [
           ",",
           ",",
           " also",
           " largest",
           " city",
           " the",
           "'s",
           " Its"
          ],
          [
           ",",
           ",",
           " also",
           " largest",
           " city",
           " Japan",
           "'s",
           " Its"
          ],
          [
           ",",
           ",",
           " also",
           " largest",
           " city",
           " Japan",
           "'s",
           " Its"
          ],
          [
           ",",
           ",",
           " also",
           " largest",
           " city",
           " Japan",
           "'s",
           " Its"
          ],
          [
           ",",
           ",",
           " currently",
           " largest",
           " city",
           " Japan",
           "'s",
           " Its"
          ],
          [
           ",",
           ",",
           " currently",
           " largest",
           " city",
           " Japan",
           ",",
           " Its"
          ],
          [
           ",",
           ",",
           " a",
           " largest",
           " of",
           " Japan",
           "'s",
           " It"
          ],
          [
           ",",
           ",",
           " a",
           " only",
           " of",
           " Japan",
           ",",
           " It"
          ],
          [
           ".",
           ",",
           " a",
           " only",
           " of",
           " Japan",
           ",",
           "\n"
          ]
         ],
         "texttemplate": "%{text}",
         "type": "heatmap",
         "x": [
          "0:Tok",
          "1:yo",
          "2:Ġis",
          "3:Ġthe",
          "4:Ġcapital",
          "5:Ġof",
          "6:ĠJapan",
          "7:."
         ],
         "y": [
          "emb",
          "0.mid",
          "0.out",
          "1.mid",
          "1.out",
          "2.mid",
          "2.out",
          "3.mid",
          "3.out",
          "4.mid",
          "4.out",
          "5.mid",
          "5.out",
          "6.mid",
          "6.out",
          "7.mid",
          "7.out",
          "8.mid",
          "8.out",
          "9.mid",
          "9.out",
          "10.mid",
          "10.out",
          "11.mid",
          "11.out"
         ],
         "z": {
          "bdata": "AACAPwAAgD8agz4/rSDzPgAAgD9/DhU/U9V/P9dlMD/K1UE/bOh9P3nhsz3WYFQ9ssN/P1xlAj4qsRs/z3xHPlkuxjxTpHk/rCahPlSwDj/NgH8/MogdP5epIT/PgnE+7rsAPT0ydT9Nzrc+bqWIPmLZfz9VfQ8/eXcwP50YDj6XV4o9VZ1MP6SJ8D5fBig/WZR/P5hGQD/rsrk+0tISPmO3hz2q7E8/pQ3wPo/iMz/li38/iWg3PwnL5T5PZhI+rYPsPHEmAz+fPas+HK1TP7d2fT/DyD8/HuX+PpPtDj5Bx+s8JzYYPzuTtj5brUs/BGt9P3zwXz+rScs+VfctPocu7TxCMz8/4iOkPiBTNz/mT2Y/1eNfPzGgJj9ocSQ+bgHtPFSAPz+ulZA+4eoaP/JxVz8c6mU/uEkyP4CzHD5Qm+o8rondPj0EgD53Qqw+EIFhP96iTD9eoFQ/LPtAPtaa6Tx1R/8+FDOcPpZMZz7F/2E/3uIXPzVEUD9mMK4+OTrnPNm4GD6vy6w+/9+SPvpKcj85rBs/3xhYP2PhIT9TQeY8YP4+PsKLpD69MuM+QVp0P3HmyD6ouUs/EcBUP2Th5Tw9S/k99SOoPgpxGj+wsnI/OUFrPtXEVD+sOlI/rN7kPBxq6D3i/as+d1VCP97Ycz+2zFg+4sAkPzAHWD/JuuU8pU4MPmZ0lD7LKFw/jdpaP2I+AD+GAUE/zRJUP8XD5TyTNwU+oDyoPhIaVz/fvXo/qpssPtojIj8aOlY/z+3nPAywaT7JanY+T09YP98KZT9f+L4+G3AWP4v+KD+aKuk8KFRdPn2feD7b3EY/+aVjP3C1aj8/esk+lrRMPyYu6zzmQUc+x3A4Pm5uSD/fODk/dhh3PztkKT/hUxY/91PsPJ1XTD6yFiY+34QmP5HSPT+BE3w/fMfKPrJBJz/R9vA8LaihPt12ND5Uerc+k95pP9Fzbz/aYyc/0vfVPppiXD3t6ms+LZ8TPrp6tT0w1Uc/Ay0wP+xkjz512Uk+f7tyPWh9FT77TOI9UC7NPTAhPj9X38A+M16bPi9aLz4=",
          "dtype": "f4",
          "shape": "25, 8"
         }
        }
       ],
       "layout": {
        "height": 750,
        "showlegend": false,
        "template": {
         "data": {
          "bar": [
           {
            "error_x": {
             "color": "#2a3f5f"
            },
            "error_y": {
             "color": "#2a3f5f"
            },
            "marker": {
             "line": {
              "color": "#E5ECF6",
              "width": 0.5
             },
             "pattern": {
              "fillmode": "overlay",
              "size": 10,
              "solidity": 0.2
             }
            },
            "type": "bar"
           }
          ],
          "barpolar": [
           {
            "marker": {
             "line": {
              "color": "#E5ECF6",
              "width": 0.5
             },
             "pattern": {
              "fillmode": "overlay",
              "size": 10,
              "solidity": 0.2
             }
            },
            "type": "barpolar"
           }
          ],
          "carpet": [
           {
            "aaxis": {
             "endlinecolor": "#2a3f5f",
             "gridcolor": "white",
             "linecolor": "white",
             "minorgridcolor": "white",
             "startlinecolor": "#2a3f5f"
            },
            "baxis": {
             "endlinecolor": "#2a3f5f",
             "gridcolor": "white",
             "linecolor": "white",
             "minorgridcolor": "white",
             "startlinecolor": "#2a3f5f"
            },
            "type": "carpet"
           }
          ],
          "choropleth": [
           {
            "colorbar": {
             "outlinewidth": 0,
             "ticks": ""
            },
            "type": "choropleth"
           }
          ],
          "contour": [
           {
            "colorbar": {
             "outlinewidth": 0,
             "ticks": ""
            },
            "colorscale": [
             [
              0,
              "#0d0887"
             ],
             [
              0.1111111111111111,
              "#46039f"
             ],
             [
              0.2222222222222222,
              "#7201a8"
             ],
             [
              0.3333333333333333,
              "#9c179e"
             ],
             [
              0.4444444444444444,
              "#bd3786"
             ],
             [
              0.5555555555555556,
              "#d8576b"
             ],
             [
              0.6666666666666666,
              "#ed7953"
             ],
             [
              0.7777777777777778,
              "#fb9f3a"
             ],
             [
              0.8888888888888888,
              "#fdca26"
             ],
             [
              1,
              "#f0f921"
             ]
            ],
            "type": "contour"
           }
          ],
          "contourcarpet": [
           {
            "colorbar": {
             "outlinewidth": 0,
             "ticks": ""
            },
            "type": "contourcarpet"
           }
          ],
          "heatmap": [
           {
            "colorbar": {
             "outlinewidth": 0,
             "ticks": ""
            },
            "colorscale": [
             [
              0,
              "#0d0887"
             ],
             [
              0.1111111111111111,
              "#46039f"
             ],
             [
              0.2222222222222222,
              "#7201a8"
             ],
             [
              0.3333333333333333,
              "#9c179e"
             ],
             [
              0.4444444444444444,
              "#bd3786"
             ],
             [
              0.5555555555555556,
              "#d8576b"
             ],
             [
              0.6666666666666666,
              "#ed7953"
             ],
             [
              0.7777777777777778,
              "#fb9f3a"
             ],
             [
              0.8888888888888888,
              "#fdca26"
             ],
             [
              1,
              "#f0f921"
             ]
            ],
            "type": "heatmap"
           }
          ],
          "histogram": [
           {
            "marker": {
             "pattern": {
              "fillmode": "overlay",
              "size": 10,
              "solidity": 0.2
             }
            },
            "type": "histogram"
           }
          ],
          "histogram2d": [
           {
            "colorbar": {
             "outlinewidth": 0,
             "ticks": ""
            },
            "colorscale": [
             [
              0,
              "#0d0887"
             ],
             [
              0.1111111111111111,
              "#46039f"
             ],
             [
              0.2222222222222222,
              "#7201a8"
             ],
             [
              0.3333333333333333,
              "#9c179e"
             ],
             [
              0.4444444444444444,
              "#bd3786"
             ],
             [
              0.5555555555555556,
              "#d8576b"
             ],
             [
              0.6666666666666666,
              "#ed7953"
             ],
             [
              0.7777777777777778,
              "#fb9f3a"
             ],
             [
              0.8888888888888888,
              "#fdca26"
             ],
             [
              1,
              "#f0f921"
             ]
            ],
            "type": "histogram2d"
           }
          ],
          "histogram2dcontour": [
           {
            "colorbar": {
             "outlinewidth": 0,
             "ticks": ""
            },
            "colorscale": [
             [
              0,
              "#0d0887"
             ],
             [
              0.1111111111111111,
              "#46039f"
             ],
             [
              0.2222222222222222,
              "#7201a8"
             ],
             [
              0.3333333333333333,
              "#9c179e"
             ],
             [
              0.4444444444444444,
              "#bd3786"
             ],
             [
              0.5555555555555556,
              "#d8576b"
             ],
             [
              0.6666666666666666,
              "#ed7953"
             ],
             [
              0.7777777777777778,
              "#fb9f3a"
             ],
             [
              0.8888888888888888,
              "#fdca26"
             ],
             [
              1,
              "#f0f921"
             ]
            ],
            "type": "histogram2dcontour"
           }
          ],
          "mesh3d": [
           {
            "colorbar": {
             "outlinewidth": 0,
             "ticks": ""
            },
            "type": "mesh3d"
           }
          ],
          "parcoords": [
           {
            "line": {
             "colorbar": {
              "outlinewidth": 0,
              "ticks": ""
             }
            },
            "type": "parcoords"
           }
          ],
          "pie": [
           {
            "automargin": true,
            "type": "pie"
           }
          ],
          "scatter": [
           {
            "fillpattern": {
             "fillmode": "overlay",
             "size": 10,
             "solidity": 0.2
            },
            "type": "scatter"
           }
          ],
          "scatter3d": [
           {
            "line": {
             "colorbar": {
              "outlinewidth": 0,
              "ticks": ""
             }
            },
            "marker": {
             "colorbar": {
              "outlinewidth": 0,
              "ticks": ""
             }
            },
            "type": "scatter3d"
           }
          ],
          "scattercarpet": [
           {
            "marker": {
             "colorbar": {
              "outlinewidth": 0,
              "ticks": ""
             }
            },
            "type": "scattercarpet"
           }
          ],
          "scattergeo": [
           {
            "marker": {
             "colorbar": {
              "outlinewidth": 0,
              "ticks": ""
             }
            },
            "type": "scattergeo"
           }
          ],
          "scattergl": [
           {
            "marker": {
             "colorbar": {
              "outlinewidth": 0,
              "ticks": ""
             }
            },
            "type": "scattergl"
           }
          ],
          "scattermap": [
           {
            "marker": {
             "colorbar": {
              "outlinewidth": 0,
              "ticks": ""
             }
            },
            "type": "scattermap"
           }
          ],
          "scattermapbox": [
           {
            "marker": {
             "colorbar": {
              "outlinewidth": 0,
              "ticks": ""
             }
            },
            "type": "scattermapbox"
           }
          ],
          "scatterpolar": [
           {
            "marker": {
             "colorbar": {
              "outlinewidth": 0,
              "ticks": ""
             }
            },
            "type": "scatterpolar"
           }
          ],
          "scatterpolargl": [
           {
            "marker": {
             "colorbar": {
              "outlinewidth": 0,
              "ticks": ""
             }
            },
            "type": "scatterpolargl"
           }
          ],
          "scatterternary": [
           {
            "marker": {
             "colorbar": {
              "outlinewidth": 0,
              "ticks": ""
             }
            },
            "type": "scatterternary"
           }
          ],
          "surface": [
           {
            "colorbar": {
             "outlinewidth": 0,
             "ticks": ""
            },
            "colorscale": [
             [
              0,
              "#0d0887"
             ],
             [
              0.1111111111111111,
              "#46039f"
             ],
             [
              0.2222222222222222,
              "#7201a8"
             ],
             [
              0.3333333333333333,
              "#9c179e"
             ],
             [
              0.4444444444444444,
              "#bd3786"
             ],
             [
              0.5555555555555556,
              "#d8576b"
             ],
             [
              0.6666666666666666,
              "#ed7953"
             ],
             [
              0.7777777777777778,
              "#fb9f3a"
             ],
             [
              0.8888888888888888,
              "#fdca26"
             ],
             [
              1,
              "#f0f921"
             ]
            ],
            "type": "surface"
           }
          ],
          "table": [
           {
            "cells": {
             "fill": {
              "color": "#EBF0F8"
             },
             "line": {
              "color": "white"
             }
            },
            "header": {
             "fill": {
              "color": "#C8D4E3"
             },
             "line": {
              "color": "white"
             }
            },
            "type": "table"
           }
          ]
         },
         "layout": {
          "annotationdefaults": {
           "arrowcolor": "#2a3f5f",
           "arrowhead": 0,
           "arrowwidth": 1
          },
          "autotypenumbers": "strict",
          "coloraxis": {
           "colorbar": {
            "outlinewidth": 0,
            "ticks": ""
           }
          },
          "colorscale": {
           "diverging": [
            [
             0,
             "#8e0152"
            ],
            [
             0.1,
             "#c51b7d"
            ],
            [
             0.2,
             "#de77ae"
            ],
            [
             0.3,
             "#f1b6da"
            ],
            [
             0.4,
             "#fde0ef"
            ],
            [
             0.5,
             "#f7f7f7"
            ],
            [
             0.6,
             "#e6f5d0"
            ],
            [
             0.7,
             "#b8e186"
            ],
            [
             0.8,
             "#7fbc41"
            ],
            [
             0.9,
             "#4d9221"
            ],
            [
             1,
             "#276419"
            ]
           ],
           "sequential": [
            [
             0,
             "#0d0887"
            ],
            [
             0.1111111111111111,
             "#46039f"
            ],
            [
             0.2222222222222222,
             "#7201a8"
            ],
            [
             0.3333333333333333,
             "#9c179e"
            ],
            [
             0.4444444444444444,
             "#bd3786"
            ],
            [
             0.5555555555555556,
             "#d8576b"
            ],
            [
             0.6666666666666666,
             "#ed7953"
            ],
            [
             0.7777777777777778,
             "#fb9f3a"
            ],
            [
             0.8888888888888888,
             "#fdca26"
            ],
            [
             1,
             "#f0f921"
            ]
           ],
           "sequentialminus": [
            [
             0,
             "#0d0887"
            ],
            [
             0.1111111111111111,
             "#46039f"
            ],
            [
             0.2222222222222222,
             "#7201a8"
            ],
            [
             0.3333333333333333,
             "#9c179e"
            ],
            [
             0.4444444444444444,
             "#bd3786"
            ],
            [
             0.5555555555555556,
             "#d8576b"
            ],
            [
             0.6666666666666666,
             "#ed7953"
            ],
            [
             0.7777777777777778,
             "#fb9f3a"
            ],
            [
             0.8888888888888888,
             "#fdca26"
            ],
            [
             1,
             "#f0f921"
            ]
           ]
          },
          "colorway": [
           "#636efa",
           "#EF553B",
           "#00cc96",
           "#ab63fa",
           "#FFA15A",
           "#19d3f3",
           "#FF6692",
           "#B6E880",
           "#FF97FF",
           "#FECB52"
          ],
          "font": {
           "color": "#2a3f5f"
          },
          "geo": {
           "bgcolor": "white",
           "lakecolor": "white",
           "landcolor": "#E5ECF6",
           "showlakes": true,
           "showland": true,
           "subunitcolor": "white"
          },
          "hoverlabel": {
           "align": "left"
          },
          "hovermode": "closest",
          "mapbox": {
           "style": "light"
          },
          "paper_bgcolor": "white",
          "plot_bgcolor": "#E5ECF6",
          "polar": {
           "angularaxis": {
            "gridcolor": "white",
            "linecolor": "white",
            "ticks": ""
           },
           "bgcolor": "#E5ECF6",
           "radialaxis": {
            "gridcolor": "white",
            "linecolor": "white",
            "ticks": ""
           }
          },
          "scene": {
           "xaxis": {
            "backgroundcolor": "#E5ECF6",
            "gridcolor": "white",
            "gridwidth": 2,
            "linecolor": "white",
            "showbackground": true,
            "ticks": "",
            "zerolinecolor": "white"
           },
           "yaxis": {
            "backgroundcolor": "#E5ECF6",
            "gridcolor": "white",
            "gridwidth": 2,
            "linecolor": "white",
            "showbackground": true,
            "ticks": "",
            "zerolinecolor": "white"
           },
           "zaxis": {
            "backgroundcolor": "#E5ECF6",
            "gridcolor": "white",
            "gridwidth": 2,
            "linecolor": "white",
            "showbackground": true,
            "ticks": "",
            "zerolinecolor": "white"
           }
          },
          "shapedefaults": {
           "line": {
            "color": "#2a3f5f"
           }
          },
          "ternary": {
           "aaxis": {
            "gridcolor": "white",
            "linecolor": "white",
            "ticks": ""
           },
           "baxis": {
            "gridcolor": "white",
            "linecolor": "white",
            "ticks": ""
           },
           "bgcolor": "#E5ECF6",
           "caxis": {
            "gridcolor": "white",
            "linecolor": "white",
            "ticks": ""
           }
          },
          "title": {
           "x": 0.05
          },
          "xaxis": {
           "automargin": true,
           "gridcolor": "white",
           "linecolor": "white",
           "ticks": "",
           "title": {
            "standoff": 15
           },
           "zerolinecolor": "white",
           "zerolinewidth": 2
          },
          "yaxis": {
           "automargin": true,
           "gridcolor": "white",
           "linecolor": "white",
           "ticks": "",
           "title": {
            "standoff": 15
           },
           "zerolinecolor": "white",
           "zerolinewidth": 2
          }
         }
        },
        "title": {
         "text": "Logit Lens Visualization"
        },
        "xaxis": {
         "title": {
          "text": "Sequence"
         }
        },
        "yaxis": {
         "title": {
          "text": "Layer"
         }
        }
       }
      }
     },
     "metadata": {},
     "output_type": "display_data"
    }
   ],
   "source": [
    "probs, indices, y_labels = prepare_data_for_logit_lens_with_mid_layer(\n",
    "    logit_lens_prob_topk=logit_lens_result,\n",
    "    logit_lens_prob_topk_mid_layer=logit_lens_result_mid_layer,\n",
    ")\n",
    "\n",
    "\n",
    "visualize_logit_lens(\n",
    "    probs=probs,\n",
    "    inputs=[f\"{i}:{token}\" for i, token in enumerate(tokenizer.tokenize(prompt))],\n",
    "    decoded=[\n",
    "        [[tokenizer.decode(k) for k in position] for position in layer]\n",
    "        for layer in indices\n",
    "    ],\n",
    "    y_labels=y_labels,\n",
    ")"
   ]
  }
 ],
 "metadata": {
  "kernelspec": {
   "display_name": "template",
   "language": "python",
   "name": "python3"
  },
  "language_info": {
   "codemirror_mode": {
    "name": "ipython",
    "version": 3
   },
   "file_extension": ".py",
   "mimetype": "text/x-python",
   "name": "python",
   "nbconvert_exporter": "python",
   "pygments_lexer": "ipython3",
   "version": "3.12.9"
  }
 },
 "nbformat": 4,
 "nbformat_minor": 5
}
