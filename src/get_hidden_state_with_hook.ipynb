{
 "cells": [
  {
   "cell_type": "markdown",
   "id": "b96630c8",
   "metadata": {},
   "source": [
    "# Hookを使ってみる\n",
    "ここでは、Transformersのモデルの、特定の層の出力を hook を使って取得してみる。  \n",
    "関数は get_hidden_state_with_hook.py に定義しているので、これを使って、目的のものが hook で取得できるか確認する。\n",
    "\n"
   ]
  },
  {
   "cell_type": "markdown",
   "id": "a00ccf04",
   "metadata": {},
   "source": [
    "### 準備"
   ]
  },
  {
   "cell_type": "code",
   "execution_count": 73,
   "id": "04ae85ac",
   "metadata": {},
   "outputs": [],
   "source": [
    "# ライブラリのインポート\n",
    "from pprint import pprint\n",
    "\n",
    "import torch\n",
    "from transformers import AutoModelForCausalLM, AutoTokenizer\n",
    "\n",
    "# ローカルの関数をインポート\n",
    "from get_hidden_stete_with_hook import main as get_hidden_state"
   ]
  },
  {
   "cell_type": "code",
   "execution_count": 74,
   "id": "393f3f04",
   "metadata": {},
   "outputs": [
    {
     "data": {
      "text/plain": [
       "GPT2LMHeadModel(\n",
       "  (transformer): GPT2Model(\n",
       "    (wte): Embedding(50257, 768)\n",
       "    (wpe): Embedding(1024, 768)\n",
       "    (drop): Dropout(p=0.1, inplace=False)\n",
       "    (h): ModuleList(\n",
       "      (0-11): 12 x GPT2Block(\n",
       "        (ln_1): LayerNorm((768,), eps=1e-05, elementwise_affine=True)\n",
       "        (attn): GPT2Attention(\n",
       "          (c_attn): Conv1D(nf=2304, nx=768)\n",
       "          (c_proj): Conv1D(nf=768, nx=768)\n",
       "          (attn_dropout): Dropout(p=0.1, inplace=False)\n",
       "          (resid_dropout): Dropout(p=0.1, inplace=False)\n",
       "        )\n",
       "        (ln_2): LayerNorm((768,), eps=1e-05, elementwise_affine=True)\n",
       "        (mlp): GPT2MLP(\n",
       "          (c_fc): Conv1D(nf=3072, nx=768)\n",
       "          (c_proj): Conv1D(nf=768, nx=3072)\n",
       "          (act): NewGELUActivation()\n",
       "          (dropout): Dropout(p=0.1, inplace=False)\n",
       "        )\n",
       "      )\n",
       "    )\n",
       "    (ln_f): LayerNorm((768,), eps=1e-05, elementwise_affine=True)\n",
       "  )\n",
       "  (lm_head): Linear(in_features=768, out_features=50257, bias=False)\n",
       ")"
      ]
     },
     "execution_count": 74,
     "metadata": {},
     "output_type": "execute_result"
    }
   ],
   "source": [
    "model_name_or_path = \"gpt2\"\n",
    "prompt = \"Tokyo is the capital of Japan.\"\n",
    "\n",
    "tokenizer = AutoTokenizer.from_pretrained(model_name_or_path)\n",
    "\n",
    "model = AutoModelForCausalLM.from_pretrained(model_name_or_path)\n",
    "model.eval()"
   ]
  },
  {
   "cell_type": "markdown",
   "id": "4c6ea9dc",
   "metadata": {},
   "source": [
    "### Hookを使って隠れ状態を取得する\n"
   ]
  },
  {
   "cell_type": "code",
   "execution_count": 75,
   "id": "d5cad21b",
   "metadata": {},
   "outputs": [
    {
     "name": "stdout",
     "output_type": "stream",
     "text": [
      "dict_keys(['args', 'kwargs', 'output'])\n"
     ]
    }
   ],
   "source": [
    "hook_layer_index = 0\n",
    "hook_result = get_hidden_state(\n",
    "    model=model,\n",
    "    tokenizer=tokenizer,\n",
    "    prompt=prompt,\n",
    "    layer_index=hook_layer_index,\n",
    ")\n",
    "pprint(hook_result.keys())"
   ]
  },
  {
   "cell_type": "markdown",
   "id": "f27e8556",
   "metadata": {},
   "source": [
    "### Transformersライブラリが提供する中間表現を取得する"
   ]
  },
  {
   "cell_type": "code",
   "execution_count": 76,
   "id": "0f467d14",
   "metadata": {},
   "outputs": [
    {
     "name": "stdout",
     "output_type": "stream",
     "text": [
      "odict_keys(['sequences', 'hidden_states', 'past_key_values'])\n"
     ]
    }
   ],
   "source": [
    "inputs = tokenizer(prompt, return_tensors=\"pt\")\n",
    "result = model.generate(\n",
    "    **inputs,\n",
    "    pad_token_id=tokenizer.eos_token_id,\n",
    "    max_new_tokens=1,\n",
    "    do_sample=False,\n",
    "    output_hidden_states=True,\n",
    "    return_dict_in_generate=True,\n",
    ")\n",
    "pprint(result.keys())"
   ]
  },
  {
   "cell_type": "markdown",
   "id": "74125b66",
   "metadata": {},
   "source": [
    "### Hookで取得した中間表現とTransformersライブラリの出力を比較する"
   ]
  },
  {
   "cell_type": "code",
   "execution_count": 77,
   "id": "c36dcdde",
   "metadata": {},
   "outputs": [],
   "source": [
    "# フックで取得した出力と、Transformersライブラリが提供している中間表現を比較する\n",
    "assert torch.allclose(\n",
    "    result.hidden_states[0][1],  # 1番目の隠れ状態は最初の層の出力に対応\n",
    "    hook_result[\"output\"][0],  # hook_result[\"output\"] はフックで取得した隠れ状態を含む\n",
    "), \"出力が一致しません\""
   ]
  },
  {
   "cell_type": "code",
   "execution_count": 78,
   "id": "69262729",
   "metadata": {},
   "outputs": [],
   "source": [
    "# フックで取得した入力と、Transformersライブラリが提供している中間表現を比較する\n",
    "assert torch.allclose(\n",
    "    result.hidden_states[0][0],  # 0番目の隠れ状態は埋め込み層の出力に対応\n",
    "    hook_result[\"args\"][0],  # hook_result[\"args\"] はフックで取得した入力を含む\n",
    "), \"入力が一致しません\""
   ]
  },
  {
   "cell_type": "markdown",
   "id": "1290e200",
   "metadata": {},
   "source": [
    "### (参考) Transformersライブラリが提供する、最後の中間表現は 正規化されている可能性がある"
   ]
  },
  {
   "cell_type": "code",
   "execution_count": 79,
   "id": "6bcada1f",
   "metadata": {},
   "outputs": [
    {
     "ename": "AssertionError",
     "evalue": "出力が一致しません",
     "output_type": "error",
     "traceback": [
      "\u001b[31m---------------------------------------------------------------------------\u001b[39m",
      "\u001b[31mAssertionError\u001b[39m                            Traceback (most recent call last)",
      "\u001b[36mCell\u001b[39m\u001b[36m \u001b[39m\u001b[32mIn[79]\u001b[39m\u001b[32m, line 7\u001b[39m\n\u001b[32m      1\u001b[39m hook_result = get_hidden_state(\n\u001b[32m      2\u001b[39m     model=model,\n\u001b[32m      3\u001b[39m     tokenizer=tokenizer,\n\u001b[32m      4\u001b[39m     prompt=prompt,\n\u001b[32m      5\u001b[39m     layer_index=-\u001b[32m1\u001b[39m\n\u001b[32m      6\u001b[39m )\n\u001b[32m----> \u001b[39m\u001b[32m7\u001b[39m \u001b[38;5;28;01massert\u001b[39;00m torch.allclose(\n\u001b[32m      8\u001b[39m     result.hidden_states[\u001b[32m0\u001b[39m][-\u001b[32m1\u001b[39m], \u001b[38;5;66;03m# 最後の層の出力と思われたもの\u001b[39;00m\n\u001b[32m      9\u001b[39m     hook_result[\u001b[33m\"\u001b[39m\u001b[33moutput\u001b[39m\u001b[33m\"\u001b[39m][\u001b[32m0\u001b[39m], \u001b[38;5;66;03m# フックで出力した最後の隠れ状態\u001b[39;00m\n\u001b[32m     10\u001b[39m ), \u001b[33m\"\u001b[39m\u001b[33m出力が一致しません\u001b[39m\u001b[33m\"\u001b[39m\n",
      "\u001b[31mAssertionError\u001b[39m: 出力が一致しません"
     ]
    }
   ],
   "source": [
    "hook_result = get_hidden_state(\n",
    "    model=model, tokenizer=tokenizer, prompt=prompt, layer_index=-1\n",
    ")\n",
    "assert torch.allclose(\n",
    "    result.hidden_states[0][-1],  # 最後の層の出力と思われたもの\n",
    "    hook_result[\"output\"][0],  # フックで出力した最後の隠れ状態\n",
    "), \"出力が一致しません\""
   ]
  },
  {
   "cell_type": "code",
   "execution_count": null,
   "id": "b0b9136c",
   "metadata": {},
   "outputs": [],
   "source": [
    "assert torch.allclose(\n",
    "    result.hidden_states[0][-1],  # 最後の層の出力と思われたもの\n",
    "    model.transformer.ln_f(\n",
    "        hook_result[\"output\"][0]\n",
    "    ),  # フックで出力した最後の隠れ状態に正規化を適用\n",
    "), \"出力が一致しません\""
   ]
  }
 ],
 "metadata": {
  "kernelspec": {
   "display_name": "template",
   "language": "python",
   "name": "python3"
  },
  "language_info": {
   "codemirror_mode": {
    "name": "ipython",
    "version": 3
   },
   "file_extension": ".py",
   "mimetype": "text/x-python",
   "name": "python",
   "nbconvert_exporter": "python",
   "pygments_lexer": "ipython3",
   "version": "3.12.9"
  }
 },
 "nbformat": 4,
 "nbformat_minor": 5
}
